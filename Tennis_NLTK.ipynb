{
 "metadata": {
  "name": "",
  "signature": "sha256:fdeba970d917d9bea1c89252ecf5aba15cfda4aa924191d963e66d29df1e0f82"
 },
 "nbformat": 3,
 "nbformat_minor": 0,
 "worksheets": [
  {
   "cells": [
    {
     "cell_type": "code",
     "collapsed": false,
     "input": [
      "#open the json dictionaries\n",
      "import json\n",
      "interviews = []\n",
      "for i in range(0,165):\n",
      "    with open('interview'+str(i)+'.json', 'rb') as fp:\n",
      "        interviews.append(json.load(fp))"
     ],
     "language": "python",
     "metadata": {},
     "outputs": [],
     "prompt_number": 7
    },
    {
     "cell_type": "code",
     "collapsed": false,
     "input": [
      "interviews[1]\n"
     ],
     "language": "python",
     "metadata": {},
     "outputs": [
      {
       "metadata": {},
       "output_type": "pyout",
       "prompt_number": 6,
       "text": [
        "{u'interview': u\" Probably just maybe a little less aggressive on some second serves to Hingis.  Too many double-faults.  I was overaggressive.  The court was playing a little bit different than what we've been used to.  It was kicking more when we were playing outside.  Today it was more of a dead bounce.  I was maybe a little too aggressive with the second serve.  Well, yeah, I mean, they played better for sure.  Obviously there were things we could have done a little bit better.  But they were the better team.  I mean, even when I thought I was serving okay, they were still making a lot of balls.  They played well.  Not ideal, obviously.  We played well in Sydney.  Had a little bit of a letdown here.  It's nice to win some matches in mixed.  Not the result that we wanted.  But it was okay overall.\",\n",
        " u'name': u'Daniel Nestor',\n",
        " u'players': 2,\n",
        " u'question': u'Looking back now to the game, what would you have done differently? Were you content with your game today? Can you assess your Australian Open overall?',\n",
        " u'win': False}"
       ]
      }
     ],
     "prompt_number": 6
    },
    {
     "cell_type": "code",
     "collapsed": false,
     "input": [],
     "language": "python",
     "metadata": {},
     "outputs": []
    }
   ],
   "metadata": {}
  }
 ]
}