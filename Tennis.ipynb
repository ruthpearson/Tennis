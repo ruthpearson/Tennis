{
 "metadata": {
  "name": "",
  "signature": "sha256:6a0fc2ff1fce42012b723b63189be0eb59c6ed29b68081322aae7acdad874bf4"
 },
 "nbformat": 3,
 "nbformat_minor": 0,
 "worksheets": [
  {
   "cells": [
    {
     "cell_type": "code",
     "collapsed": false,
     "input": [
      "import nltk\n",
      "from urllib import urlopen\n",
      "from bs4 import BeautifulSoup\n",
      "\n",
      "url = \"http://www.asapsports.com/show_interview.php?id=105935\"    \n",
      "html = urlopen(url).read()    \n",
      "soup=BeautifulSoup(html)\n",
      "raw = soup.get_text()\n",
      "#print soup.p.text #p is paragraph in html\n",
      "#print soup.title #includes html tags\n",
      "print soup.title.text #just the text portion "
     ],
     "language": "python",
     "metadata": {},
     "outputs": [
      {
       "output_type": "stream",
       "stream": "stdout",
       "text": [
        "ASAP Sports Transcripts - Tennis - 2015 - AUSTRALIAN OPEN - February 1 - Andy Murray\n"
       ]
      }
     ],
     "prompt_number": 61
    },
    {
     "cell_type": "code",
     "collapsed": false,
     "input": [
      "print soup.b\n"
     ],
     "language": "python",
     "metadata": {},
     "outputs": [
      {
       "output_type": "stream",
       "stream": "stdout",
       "text": [
        "<b>Q. </b>\n"
       ]
      }
     ],
     "prompt_number": 62
    },
    {
     "cell_type": "code",
     "collapsed": false,
     "input": [
      "#soup.find_all('b') #b is all the questions \n"
     ],
     "language": "python",
     "metadata": {},
     "outputs": [],
     "prompt_number": 54
    },
    {
     "cell_type": "code",
     "collapsed": false,
     "input": [
      "#from bs4.diagnose import diagnose\n",
      "#diagnose(raw)"
     ],
     "language": "python",
     "metadata": {},
     "outputs": [],
     "prompt_number": 2
    },
    {
     "cell_type": "code",
     "collapsed": false,
     "input": [
      "#soup.prettify()\n"
     ],
     "language": "python",
     "metadata": {},
     "outputs": [],
     "prompt_number": 52
    },
    {
     "cell_type": "code",
     "collapsed": false,
     "input": [
      "#soup.get_text()"
     ],
     "language": "python",
     "metadata": {},
     "outputs": [],
     "prompt_number": 53
    },
    {
     "cell_type": "code",
     "collapsed": false,
     "input": [
      "url_date=\"http://www.asapsports.com/show_events.php?category=7&year=2015&title=AUSTRALIAN+OPEN\"\n",
      "html_date = urlopen(url_date).read()    \n",
      "soup_date=BeautifulSoup(html_date)\n",
      "\n",
      "url_date=[] #each of these urls lists a few interviews\n",
      "for link in soup_date.find_all('b'):\n",
      "    for link2 in link.find_all('a'):\n",
      "        #print link2.get('href')\n",
      "        url_date.extend([link2.get('href')])\n"
     ],
     "language": "python",
     "metadata": {},
     "outputs": [],
     "prompt_number": 48
    },
    {
     "cell_type": "code",
     "collapsed": false,
     "input": [
      "url_list=[] #this is a list of all the interview urls, strings anre unicode\n",
      "for this_url in url_date:\n",
      "    url = this_url    \n",
      "    html2 = urlopen(url).read()    \n",
      "    soup2=BeautifulSoup(html2)\n",
      "    soup2.find_all('b')\n",
      "\n",
      "    for link in soup2.find_all('b'):\n",
      "        for link2 in link.find_all('a'):\n",
      "            #print link2.get('href')\n",
      "            url_list.extend([link2.get('href')])\n",
      "    "
     ],
     "language": "python",
     "metadata": {},
     "outputs": [],
     "prompt_number": 47
    },
    {
     "cell_type": "code",
     "collapsed": false,
     "input": [
      "#scrape each interview from urls in url_list[]\n",
      "url = url_list[0]    \n",
      "html = urlopen(url).read()    \n",
      "soup=BeautifulSoup(html)\n",
      "raw = soup.get_text()"
     ],
     "language": "python",
     "metadata": {},
     "outputs": [],
     "prompt_number": 56
    },
    {
     "cell_type": "code",
     "collapsed": false,
     "input": [
      "for string in soup.stripped_strings:\n",
      "    print(repr(string))\n",
      "    "
     ],
     "language": "python",
     "metadata": {},
     "outputs": [
      {
       "output_type": "stream",
       "stream": "stdout",
       "text": [
        "u'ASAP Sports Transcripts - Tennis - 2015 - AUSTRALIAN OPEN - February 1 - Andy Murray'\n",
        "u'_uacct = \"UA-1135978-1\";\\nurchinTracker();'\n",
        "u'/*\\nText and/or Image Crawler Script \\xa92009 John Davenport Scheuer\\nas first seen in http://www.dynamicdrive.com/forums/ username: jscheuer1\\nThis Notice Must Remain for Legal Use\\n*/'\n",
        "u'<!--\\nfunction MM_openBrWindow(theURL,winName,features) { //v2.0\\n  window.open(theURL,winName,features);\\n}\\n//-->'\n",
        "u'home'\n",
        "u'jobs'\n",
        "u'contact us'\n",
        "u'products'\n",
        "u'recent interviews'\n",
        "u'FastScripts archive'\n",
        "u'about ASAP Sports'\n",
        "u'Our Clients:'\n",
        "u\"marqueeInit({\\n\\tuniqueid: 'mycrawler2',\\n\\tstyle: {\\n\\t\\t'padding': '1px',\\n\\t\\t'width': '430px',\\n\\t\\t'height': '40px'\\n\\t},\\n\\tinc: 5, //speed - pixel increment for each iteration of this marquee's movement\\n\\tmouse: 'cursor driven', //mouseover behavior ('pause' 'cursor driven' or false)\\n\\tmoveatleast: 2,\\n\\tneutral: 150,\\n\\taddDelay: 40,\\n\\tsavedirection: true\\n});\"\n",
        "u\"(function() {\\n    var cx = '006965992139505998230:fxp4nfq_bmq';\\n    var gcse = document.createElement('script');\\n    gcse.type = 'text/javascript';\\n    gcse.async = true;\\n    gcse.src = (document.location.protocol == 'https:' ? 'https:' : 'http:') +\\n        '//www.google.com/cse/cse.js?cx=' + cx;\\n    var s = document.getElementsByTagName('script')[0];\\n    s.parentNode.insertBefore(gcse, s);\\n  })();\"\n",
        "u'Browse by Sport'\n",
        "u'Find us on'\n",
        "u'Subscribe to RSS'\n",
        "u'Click to go to'\n",
        "u'Asaptext.com'\n",
        "u'View our'\n",
        "u'e-Brochure'\n",
        "u'AUSTRALIAN OPEN'\n",
        "u'February 1, 2015'\n",
        "u'Andy Murray'\n",
        "u'MELBOURNE, VICTORIA'\n",
        "u'N. DJOKOVIC/A. Murray'\n",
        "u'7-6, 6-7, 6-3, 6-0'\n",
        "u'An interview with:'\n",
        "u'ANDY MURRAY'\n",
        "u'THE MODERATOR: Questions, please.'\n",
        "u'Q.'\n",
        "u'Can you describe how your emotions were going as it ran away from you near the end?'\n",
        "u\"ANDY MURRAY: Well, obviously had opportunities in the first three sets.  Then the fourth set, I mean, obviously I need to watch it back to see if I played badly.  I mean, he was just ripping everything.  Returns he was hitting on the baseline, this far from the line all the time.  Once he got up a break, he just loosened up and was just going for his shots.  I couldn't recover.  So the fourth set wasn't as frustrating to me.  The third set was frustrating because I got a bit distracted when he, like, fell on the ground after a couple of shots.  It appeared that he was cramping, and then I let that distract me a little bit.  That's what I'm most disappointed about, not so much the fourth set because I think, especially at the end of it, he was just going for everything, and it was going in.  But the third set was more frustrating for me.\"\n",
        "u'Q.'\n",
        "u\"Do you think he went for broke at the end because he was afraid of a fifth set, that he thought he couldn't last a fifth set?\"\n",
        "u\"ANDY MURRAY: No, I don't think so, because he was moving unbelievable at the end of the third set, sliding and chasing everything down.  I think it was just more that once he got up he loosened up a bit, and then was just going for his shots.  Maybe if he started to miss a couple, then you kind of rein it back a little bit.  But he wasn't missing, so he just kept going for it.\"\n",
        "u'Q.'\n",
        "u\"Is it a legitimate tactic to maybe make your opponent think you're injured and then come back flying?\"\n",
        "u\"ANDY MURRAY: No, it's not legitimate.  Like I have no idea what the issue was.  He obviously looked like he was in quite a bad way at the beginning of the third set and came back unbelievable at the end of that set.  Then obviously the way he was hitting the ball in the fourth and moving was impressive.  So, yeah, I don't know exactly what the issue was for him.\"\n",
        "u'Q.'\n",
        "u'Do you think it was a deliberate element to it?  At the start of the second and third, looked like he was buckling under.'\n",
        "u\"ANDY MURRAY: I don't know.  I don't know.  I have no idea.  I mean, it's obviously what he thinks.  I would hope that that wouldn't be the case.  But, yeah, if it was cramp, how he recovered from it, that's a tough thing to recover from and play as well as he did at the end.  So, yeah, I'm frustrated at myself for letting that bother me at the beginning of the third set, because I was playing well, I had good momentum, and then just dropped off for like 10 minutes and it got away from me.  So that's the most frustrating thing because I thought I obviously had opportunities in the first set.  I couldn't quite get them.  I managed to sneak the second.  Then obviously was that break up in the third.  So, yeah, there was definitely opportunities there.\"\n",
        "u'Q.'\n",
        "u'Why do you think you let it get to you this time?'\n",
        "u\"ANDY MURRAY: What do you mean 'this time'?\"\n",
        "u'Q.'\n",
        "u\"You played him before.  You've played lots of matches where it looked like he was hurt.  This one seemed to rattle you more than usual.\"\n",
        "u\"ANDY MURRAY: Yeah, I don't know exactly.  I think, like I said, the way he was moving at the end of the third set, he obviously started playing much better again.  That contributed to some of it, as well.  But I don't know.  Maybe it was the situation that you know if someone's cramping in the final of a slam, with such a long way to go, you're feeling pretty good about yourself.  Yeah, maybe, like I said, I dropped off for 10, 15 minutes there, and he got back into it.  That was it.  I don't know exactly why it was the case, but I've never really experienced that in a slam final before.  Maybe the occasion was something to do with it.  I don't know.\"\n",
        "u'Q.'\n",
        "u\"Is it a lesson you can learn, maybe next time you play him, the same thing happens, you won't notice?\"\n",
        "u\"ANDY MURRAY: Yeah, in all matches you concentrate on your own end of the court.  That's just a basic thing to do.  Sometimes when you play, like here and the US Open, because they have replays after every single point, you're often waiting before you serve whilst they're showing the replay.  It's very difficult to not be aware of what's happening down the other end.  But, yeah, I play enough matches to be able to handle that situation better.  That's what I'm saying.  For me, that third set was what was disappointing because I feel I could have done a bit better.\"\n",
        "u'Q.'\n",
        "u'The US Open you said you thought Novak was physically stronger than you in the latter stages.  Do you feel that way coming off the court tonight?'\n",
        "u\"ANDY MURRAY: The reason I lost that match was not a physical thing.  I don't believe that.  I know how I feel just now and how I felt after the match with Novak at the US Open.  Yeah, I'm not frustrated for physical reasons because I feel fine just now.  It appeared that he was the one that was struggling more physically than me.  That was, I guess, one improvement from there.  Also I did feel like I did have more opportunities in this match, as well, than New York.  I feel that for the first three sets the level was better than it was there, too.  Yeah, I'm happy that it wasn't a physical thing.\"\n",
        "u'Q.'\n",
        "u'Any positives you can take from this fortnight to kick on for the rest of the year?'\n",
        "u\"ANDY MURRAY: Well, there's been a great couple of weeks compared with where I was a couple of months ago.  It's like night and day really.  Playing way, way better in almost every part of my game.  Moving better.  Physically I feel better, more confident, more belief.  I was a lot calmer, like, before my matches.  Mentally I felt much, much stronger than I did at the end of last year and during the majors really last year.  So, yeah, for me, I mean, a lot of positives.  I wouldn't want to come away from here feeling negative about the way that I played or reaching a slam final.  Novak has won five times here now.  There's no disgrace obviously in losing to him.  So, yeah, a lot of positives for me to take from it.\"\n",
        "u'Q.'\n",
        "u\"80 days since the ATP World Tour Finals.  How pleasing is it to be here having achieved so much in such a short space of time with the work you've done with Am\\xe9lie?\"\n",
        "u\"ANDY MURRAY: Yes, it's pleasing to be back playing close to my best.  And, yeah, it does show that, you know, I still feel like I can make improvements in my game.  I still think I can get a few percent better over the next couple of months.  My job now is to try to maintain this sort of level and form and the way that I was trying to play throughout the event, try to maintain that for the next few months and not sort of have dips in form.  I want to try to be more consistent this year, yeah, and play better in more events.  Yeah, that's what I want to do the next couple months.\"\n",
        "u'Q.'\n",
        "u\"If it wasn't physical, was it mental that you lost 12 games out of the last 13 or what?\"\n",
        "u\"ANDY MURRAY: Well, I said I got distracted in the third set.  Definitely got distracted in the third set.  Then the fourth set, look, like I said, I need to watch it again.  I feel like at the end of the fourth set -- he played fantastically well definitely after the first few games of the fourth set.  Yeah, he was going for everything and hitting the lines.  Yeah, there's not much you can do in that situation.  But, yeah, I definitely got distracted in the third set, so that would be a mental thing, yeah.\"\n",
        "u'Q.'\n",
        "u'Talk about the impact of working with Am\\xe9lie.'\n",
        "u\"ANDY MURRAY: Well, obviously in the last couple months I've had a lot of time to work on things with Am\\xe9lie, also physically as well with my team.  And, yeah, look, I mean, it's easy for me to sit here and say what I think that she helped with, but everyone in here watched my matches here.  I'm sure you can all see what I was like on the court here compared with a couple months ago.  I feel like it was a completely different player on the court.  A lot of that comes down to my team motivating me, working on the right things, then also me motivating myself to come back from a difficult year last year.  Yeah, that's it.\"\n",
        "u'Q.'\n",
        "u\"Are you quite content you'll be back to action soon rather than taking a long break through February?\"\n",
        "u\"ANDY MURRAY: I don't know.  I hadn't really thought ahead of this event yet.  I've spent like two and a half days at home in the last two and a half months, so I'm looking forward to getting back and spending a bit of time at home with my friends and family and my dogs and being away from the tennis court and the gym for a few days when I get back.  Because it's been a busy few months with quite a lot of travel.  Yeah, obviously this event, the slams do take a lot out of you physically and mentally because of the length of the matches, and then also the length of the event, as well, and the preparation that goes into them.  So I'm looking forward to a few days away from the court now.\"\n",
        "u'Q.'\n",
        "u\"As much as you want to win everything you play ing, coming here, what do you think success would have been you after what you've been through?\"\n",
        "u\"ANDY MURRAY: Success is being happy.  It's not about winning every single tournament you play, because that isn't possible.  You want to win every event, that's for sure.  That's what you prepare for.  But no one in the history of this game has ever done that.  You know, you prepare as best as you can.  I would rather lose in the final and be happy than win the final and go home and be miserable.  So, yeah, try to enjoy my tennis more right now than I probably did at the beginning of my career and everything that goes into it.  So, yeah, I mean, obviously I would have liked to have won today, but you can't win all of them unfortunately.  Like I said, I'm happy with everything that I put into the event.  I couldn't have done anything more.  I couldn't have prepared better.  I couldn't have done anything more to give myself a better chance to win.  So I can't be disappointed with that because I gave my best effort.  That's all I think any athlete, that's what you ask of them, you know, to give themselves the best chance of winning.  And I did that.  I just wish I could have done a little bit better in the third set tonight.\"\n",
        "u'Q.'\n",
        "u\"You mentioned February wasn't a month where Am\\xe9lie wouldn't be traveling with you.  Ideally you would try to find a coach to help you out when she's not around.  Anything you've focused on in trying to find another coach?\"\n",
        "u\"ANDY MURRAY: I thought a little bit about it before the event when I got over to Australia, but I have put zero thought into it since I've been here.  I'll definitely have a think about it, because I don't want to go the whole month now not seeing anyone.  So, yeah, I'll try to get some help this month.  But, again, it's about getting the right person rather than rushing and making a bad decision.  I'll try and find the right person to do it with my team and chat to them a bit about it, then speak to some people.  But that won't happen in the next few days because I want to go and do other stuff and think about other things just now.\"\n",
        "u'FastScripts Transcript by ASAP Sports'\n",
        "u'About ASAP Sports'\n",
        "u'\\u2022'\n",
        "u'FastScripts Archive'\n",
        "u'\\u2022'\n",
        "u'Recent Interviews'\n",
        "u'\\u2022'\n",
        "u'Captioning'\n",
        "u'\\u2022'\n",
        "u'Upcoming Events'\n",
        "u'\\u2022'\n",
        "u'Contact Us'\n",
        "u'FastScripts'\n",
        "u'|'\n",
        "u'Events Covered'\n",
        "u'|'\n",
        "u'Our Clients'\n",
        "u'|'\n",
        "u'Other Services'\n",
        "u'|'\n",
        "u'ASAP in the News'\n",
        "u'|'\n",
        "u'Site Map'\n",
        "u'|'\n",
        "u'Job Opportunities'\n",
        "u'|'\n",
        "u'Links'\n",
        "u'ASAP Sports, Inc.'\n",
        "u'| T: 1.212 385 0297'\n"
       ]
      }
     ],
     "prompt_number": 58
    },
    {
     "cell_type": "code",
     "collapsed": false,
     "input": [
      "save=[]\n",
      "count=0\n",
      "for string in soup.stripped_strings:\n",
      "    count +=1\n",
      "    if \"Q.\" in string:\n",
      "        save.append(count)\n"
     ],
     "language": "python",
     "metadata": {},
     "outputs": [],
     "prompt_number": 46
    },
    {
     "cell_type": "code",
     "collapsed": false,
     "input": [],
     "language": "python",
     "metadata": {},
     "outputs": [
      {
       "metadata": {},
       "output_type": "pyout",
       "prompt_number": 64,
       "text": [
        "u'\\n\\nASAP Sports Transcripts - Tennis - 2015 - AUSTRALIAN OPEN - February 1 - Andy Murray\\n\\n\\n\\n\\n\\n\\n\\n\\n\\n\\n\\n_uacct = \"UA-1135978-1\";\\nurchinTracker();\\n\\n\\n\\n/*\\nText and/or Image Crawler Script \\xa92009 John Davenport Scheuer\\nas first seen in http://www.dynamicdrive.com/forums/ username: jscheuer1\\nThis Notice Must Remain for Legal Use\\n*/\\n\\n\\n\\n<!--\\nfunction MM_openBrWindow(theURL,winName,features) { //v2.0\\n  window.open(theURL,winName,features);\\n}\\n//-->\\n\\n\\n\\n\\n\\n\\n\\n  \\n    \\n\\n\\n  \\n  \\n  \\n  \\n    home\\n    jobs\\n    contact us\\n  \\n  \\n  \\n  \\n    \\n    \\n  \\n    \\n    \\n                    \\n                    \\n                    products                    \\n                    recent interviews\\n                    FastScripts archive\\n\\t\\t\\t\\t\\tabout ASAP Sports\\n                    \\n               \\t\\n    \\n  \\n  \\n      \\n      \\n    \\n  \\n\\n    \\n  \\n    \\n  \\n  \\n  \\n    Our Clients:\\n    \\n    \\n\\n\\n       \\n\\n\\n\\nmarqueeInit({\\n\\tuniqueid: \\'mycrawler2\\',\\n\\tstyle: {\\n\\t\\t\\'padding\\': \\'1px\\',\\n\\t\\t\\'width\\': \\'430px\\',\\n\\t\\t\\'height\\': \\'40px\\'\\n\\t},\\n\\tinc: 5, //speed - pixel increment for each iteration of this marquee\\'s movement\\n\\tmouse: \\'cursor driven\\', //mouseover behavior (\\'pause\\' \\'cursor driven\\' or false)\\n\\tmoveatleast: 2,\\n\\tneutral: 150,\\n\\taddDelay: 40,\\n\\tsavedirection: true\\n});\\n\\n    \\n    \\n    \\n    \\n    \\n  (function() {\\n    var cx = \\'006965992139505998230:fxp4nfq_bmq\\';\\n    var gcse = document.createElement(\\'script\\');\\n    gcse.type = \\'text/javascript\\';\\n    gcse.async = true;\\n    gcse.src = (document.location.protocol == \\'https:\\' ? \\'https:\\' : \\'http:\\') +\\n        \\'//www.google.com/cse/cse.js?cx=\\' + cx;\\n    var s = document.getElementsByTagName(\\'script\\')[0];\\n    s.parentNode.insertBefore(gcse, s);\\n  })();\\n\\n\\n    \\n  \\n\\n\\n  \\n\\n\\n  \\n  \\n    \\n    \\n      \\n        \\n          \\n          \\n  \\n    Browse by Sport\\n  \\n  \\n    \\n  \\n  \\n    \\n  \\n  \\n    \\n      \\n        Find us on\\n        \\n        \\n      \\n    \\n  \\n  \\n    \\n  \\n  \\n    \\n      \\n        \\n        Subscribe to RSS\\n      \\n    \\n  \\n  \\n    \\n  \\n  \\n    \\n      \\n        Click to go to\\n          Asaptext.com\\n        \\n      \\n    \\n  \\n  \\n    \\n  \\n  \\n    \\n      \\n        \\n        \\n        View our\\n          e-Brochure\\n          \\n      \\n    \\n  \\n  \\n    \\n  \\n\\n\\n          \\n          \\n          \\n            \\n\\t\\t  AUSTRALIAN OPEN\\n\\t\\t  \\n\\t\\t  February 1, 2015\\n\\t\\t  \\n\\t\\t  Andy Murray\\n\\t\\t  MELBOURNE, VICTORIA\\n\\t\\t  N. DJOKOVIC/A. Murray7-6, 6-7, 6-3, 6-0An interview with:ANDY MURRAYTHE MODERATOR: Questions, please.Q. Can you describe how your emotions were going as it ran away from you near the end?ANDY MURRAY: Well, obviously had opportunities in the first three sets.  Then the fourth set, I mean, obviously I need to watch it back to see if I played badly.  I mean, he was just ripping everything.  Returns he was hitting on the baseline, this far from the line all the time.  Once he got up a break, he just loosened up and was just going for his shots.  I couldn\\'t recover.  So the fourth set wasn\\'t as frustrating to me.  The third set was frustrating because I got a bit distracted when he, like, fell on the ground after a couple of shots.  It appeared that he was cramping, and then I let that distract me a little bit.  That\\'s what I\\'m most disappointed about, not so much the fourth set because I think, especially at the end of it, he was just going for everything, and it was going in.  But the third set was more frustrating for me.Q. Do you think he went for broke at the end because he was afraid of a fifth set, that he thought he couldn\\'t last a fifth set?ANDY MURRAY: No, I don\\'t think so, because he was moving unbelievable at the end of the third set, sliding and chasing everything down.  I think it was just more that once he got up he loosened up a bit, and then was just going for his shots.  Maybe if he started to miss a couple, then you kind of rein it back a little bit.  But he wasn\\'t missing, so he just kept going for it.Q. Is it a legitimate tactic to maybe make your opponent think you\\'re injured and then come back flying?ANDY MURRAY: No, it\\'s not legitimate.  Like I have no idea what the issue was.  He obviously looked like he was in quite a bad way at the beginning of the third set and came back unbelievable at the end of that set.  Then obviously the way he was hitting the ball in the fourth and moving was impressive.  So, yeah, I don\\'t know exactly what the issue was for him.Q. Do you think it was a deliberate element to it?  At the start of the second and third, looked like he was buckling under.ANDY MURRAY: I don\\'t know.  I don\\'t know.  I have no idea.  I mean, it\\'s obviously what he thinks.  I would hope that that wouldn\\'t be the case.  But, yeah, if it was cramp, how he recovered from it, that\\'s a tough thing to recover from and play as well as he did at the end.  So, yeah, I\\'m frustrated at myself for letting that bother me at the beginning of the third set, because I was playing well, I had good momentum, and then just dropped off for like 10 minutes and it got away from me.  So that\\'s the most frustrating thing because I thought I obviously had opportunities in the first set.  I couldn\\'t quite get them.  I managed to sneak the second.  Then obviously was that break up in the third.  So, yeah, there was definitely opportunities there.Q. Why do you think you let it get to you this time?ANDY MURRAY: What do you mean \\'this time\\'?Q. You played him before.  You\\'ve played lots of matches where it looked like he was hurt.  This one seemed to rattle you more than usual.ANDY MURRAY: Yeah, I don\\'t know exactly.  I think, like I said, the way he was moving at the end of the third set, he obviously started playing much better again.  That contributed to some of it, as well.  But I don\\'t know.  Maybe it was the situation that you know if someone\\'s cramping in the final of a slam, with such a long way to go, you\\'re feeling pretty good about yourself.  Yeah, maybe, like I said, I dropped off for 10, 15 minutes there, and he got back into it.  That was it.  I don\\'t know exactly why it was the case, but I\\'ve never really experienced that in a slam final before.  Maybe the occasion was something to do with it.  I don\\'t know.Q. Is it a lesson you can learn, maybe next time you play him, the same thing happens, you won\\'t notice?ANDY MURRAY: Yeah, in all matches you concentrate on your own end of the court.  That\\'s just a basic thing to do.  Sometimes when you play, like here and the US Open, because they have replays after every single point, you\\'re often waiting before you serve whilst they\\'re showing the replay.  It\\'s very difficult to not be aware of what\\'s happening down the other end.  But, yeah, I play enough matches to be able to handle that situation better.  That\\'s what I\\'m saying.  For me, that third set was what was disappointing because I feel I could have done a bit better.Q. The US Open you said you thought Novak was physically stronger than you in the latter stages.  Do you feel that way coming off the court tonight?ANDY MURRAY: The reason I lost that match was not a physical thing.  I don\\'t believe that.  I know how I feel just now and how I felt after the match with Novak at the US Open.  Yeah, I\\'m not frustrated for physical reasons because I feel fine just now.  It appeared that he was the one that was struggling more physically than me.  That was, I guess, one improvement from there.  Also I did feel like I did have more opportunities in this match, as well, than New York.  I feel that for the first three sets the level was better than it was there, too.  Yeah, I\\'m happy that it wasn\\'t a physical thing.Q. Any positives you can take from this fortnight to kick on for the rest of the year?ANDY MURRAY: Well, there\\'s been a great couple of weeks compared with where I was a couple of months ago.  It\\'s like night and day really.  Playing way, way better in almost every part of my game.  Moving better.  Physically I feel better, more confident, more belief.  I was a lot calmer, like, before my matches.  Mentally I felt much, much stronger than I did at the end of last year and during the majors really last year.  So, yeah, for me, I mean, a lot of positives.  I wouldn\\'t want to come away from here feeling negative about the way that I played or reaching a slam final.  Novak has won five times here now.  There\\'s no disgrace obviously in losing to him.  So, yeah, a lot of positives for me to take from it.Q. 80 days since the ATP World Tour Finals.  How pleasing is it to be here having achieved so much in such a short space of time with the work you\\'ve done with Am\\xe9lie?ANDY MURRAY: Yes, it\\'s pleasing to be back playing close to my best.  And, yeah, it does show that, you know, I still feel like I can make improvements in my game.  I still think I can get a few percent better over the next couple of months.  My job now is to try to maintain this sort of level and form and the way that I was trying to play throughout the event, try to maintain that for the next few months and not sort of have dips in form.  I want to try to be more consistent this year, yeah, and play better in more events.  Yeah, that\\'s what I want to do the next couple months.Q. If it wasn\\'t physical, was it mental that you lost 12 games out of the last 13 or what?ANDY MURRAY: Well, I said I got distracted in the third set.  Definitely got distracted in the third set.  Then the fourth set, look, like I said, I need to watch it again.  I feel like at the end of the fourth set -- he played fantastically well definitely after the first few games of the fourth set.  Yeah, he was going for everything and hitting the lines.  Yeah, there\\'s not much you can do in that situation.  But, yeah, I definitely got distracted in the third set, so that would be a mental thing, yeah.Q. Talk about the impact of working with Am\\xe9lie.ANDY MURRAY: Well, obviously in the last couple months I\\'ve had a lot of time to work on things with Am\\xe9lie, also physically as well with my team.  And, yeah, look, I mean, it\\'s easy for me to sit here and say what I think that she helped with, but everyone in here watched my matches here.  I\\'m sure you can all see what I was like on the court here compared with a couple months ago.  I feel like it was a completely different player on the court.  A lot of that comes down to my team motivating me, working on the right things, then also me motivating myself to come back from a difficult year last year.  Yeah, that\\'s it.Q. Are you quite content you\\'ll be back to action soon rather than taking a long break through February?ANDY MURRAY: I don\\'t know.  I hadn\\'t really thought ahead of this event yet.  I\\'ve spent like two and a half days at home in the last two and a half months, so I\\'m looking forward to getting back and spending a bit of time at home with my friends and family and my dogs and being away from the tennis court and the gym for a few days when I get back.  Because it\\'s been a busy few months with quite a lot of travel.  Yeah, obviously this event, the slams do take a lot out of you physically and mentally because of the length of the matches, and then also the length of the event, as well, and the preparation that goes into them.  So I\\'m looking forward to a few days away from the court now.Q. As much as you want to win everything you play ing, coming here, what do you think success would have been you after what you\\'ve been through?ANDY MURRAY: Success is being happy.  It\\'s not about winning every single tournament you play, because that isn\\'t possible.  You want to win every event, that\\'s for sure.  That\\'s what you prepare for.  But no one in the history of this game has ever done that.  You know, you prepare as best as you can.  I would rather lose in the final and be happy than win the final and go home and be miserable.  So, yeah, try to enjoy my tennis more right now than I probably did at the beginning of my career and everything that goes into it.  So, yeah, I mean, obviously I would have liked to have won today, but you can\\'t win all of them unfortunately.  Like I said, I\\'m happy with everything that I put into the event.  I couldn\\'t have done anything more.  I couldn\\'t have prepared better.  I couldn\\'t have done anything more to give myself a better chance to win.  So I can\\'t be disappointed with that because I gave my best effort.  That\\'s all I think any athlete, that\\'s what you ask of them, you know, to give themselves the best chance of winning.  And I did that.  I just wish I could have done a little bit better in the third set tonight.Q. You mentioned February wasn\\'t a month where Am\\xe9lie wouldn\\'t be traveling with you.  Ideally you would try to find a coach to help you out when she\\'s not around.  Anything you\\'ve focused on in trying to find another coach?ANDY MURRAY: I thought a little bit about it before the event when I got over to Australia, but I have put zero thought into it since I\\'ve been here.  I\\'ll definitely have a think about it, because I don\\'t want to go the whole month now not seeing anyone.  So, yeah, I\\'ll try to get some help this month.  But, again, it\\'s about getting the right person rather than rushing and making a bad decision.  I\\'ll try and find the right person to do it with my team and chat to them a bit about it, then speak to some people.  But that won\\'t happen in the next few days because I want to go and do other stuff and think about other things just now.\\nFastScripts Transcript by ASAP Sports            \\n          \\n          \\n        \\n        \\n          \\n        \\n      \\n      \\n    \\n  \\n  \\n    \\n  \\n    \\n      \\n        About ASAP Sports \\u2022 \\n        FastScripts Archive \\u2022 \\n        Recent Interviews \\u2022 \\n        Captioning \\u2022 \\n\\t\\tUpcoming Events \\u2022 \\n        Contact Us\\n      \\n      \\n      \\n        FastScripts | \\n        Events Covered | \\n        Our Clients | \\n        Other Services | \\n        ASAP in the News | \\n        Site Map | \\n        Job Opportunities | \\n        Links\\n      \\n    \\n  \\n  \\n    \\n      ASAP Sports, Inc. | T: 1.212 385 0297 \\n    \\n  \\n\\n  \\n\\n\\n\\n\\n\\n\\n'"
       ]
      }
     ],
     "prompt_number": 64
    },
    {
     "cell_type": "code",
     "collapsed": false,
     "input": [],
     "language": "python",
     "metadata": {},
     "outputs": []
    }
   ],
   "metadata": {}
  }
 ]
}